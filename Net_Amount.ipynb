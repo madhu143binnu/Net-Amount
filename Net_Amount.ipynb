{
  "nbformat": 4,
  "nbformat_minor": 0,
  "metadata": {
    "colab": {
      "provenance": [],
      "authorship_tag": "ABX9TyNzFCBU9LQf2ZKr2U+3CwBA",
      "include_colab_link": true
    },
    "kernelspec": {
      "name": "python3",
      "display_name": "Python 3"
    },
    "language_info": {
      "name": "python"
    }
  },
  "cells": [
    {
      "cell_type": "markdown",
      "metadata": {
        "id": "view-in-github",
        "colab_type": "text"
      },
      "source": [
        "<a href=\"https://colab.research.google.com/github/madhu143binnu/Net-Amount/blob/main/Net_Amount.ipynb\" target=\"_parent\"><img src=\"https://colab.research.google.com/assets/colab-badge.svg\" alt=\"Open In Colab\"/></a>"
      ]
    },
    {
      "cell_type": "markdown",
      "source": [
        "\n",
        "\n",
        "Python Assignment -1\n",
        "\n",
        "\n",
        "Write a program that computes the net amount of a bank account based on a transaction log from console input. The transaction log / sample input is in the format as shown below:\n",
        "\n",
        "\n",
        "\n",
        "Input\n",
        "\n",
        "log_message = D:100 W:10\n",
        "\n",
        "Output\n",
        "\n",
        "90\n",
        "\n",
        "Input\n",
        "\n",
        "Log_message = D:100 W:200 D:400\n",
        "\n",
        "Output\n",
        "\n",
        "300 (100 - 200 + 400 = 300)"
      ],
      "metadata": {
        "id": "YEQHHMnxhMRs"
      }
    },
    {
      "cell_type": "code",
      "execution_count": 2,
      "metadata": {
        "colab": {
          "base_uri": "https://localhost:8080/"
        },
        "id": "YlpYNhymhG4n",
        "outputId": "23c0655e-3579-4e10-8d8f-b7bd21d8c249"
      },
      "outputs": [
        {
          "output_type": "stream",
          "name": "stdout",
          "text": [
            "log_message=D:100 W:200 D:400\n",
            "300\n"
          ]
        }
      ],
      "source": [
        "Total_Deposit=0\n",
        "Total_Withdraw=0\n",
        "count=0\n",
        "Temp_deposit=\"\"\n",
        "Temp_Withdraw=\"\"\n",
        "\n",
        "log_message=input(\"log_message=\")\n",
        "for i in log_message:\n",
        "    if i=='D':\n",
        "        D=log_message[count+2:]\n",
        "        for dep in D:\n",
        "            if dep!=':' and dep!=' ':\n",
        "                Temp_deposit=Temp_deposit+dep\n",
        "            else:\n",
        "                break\n",
        "        Total_Deposit=Total_Deposit+int(Temp_deposit)\n",
        "        Temp_deposit=\"\"\n",
        "    elif i=='W':\n",
        "        W=log_message[count+2:]\n",
        "        for WD in W:\n",
        "            if WD!=':' and WD!=' ':\n",
        "                Temp_Withdraw=Temp_Withdraw+WD\n",
        "            else:\n",
        "                break\n",
        "        Total_Withdraw=Total_Withdraw+int(Temp_Withdraw)\n",
        "        Temp_Withdraw=\"\"\n",
        "    count+=1\n",
        "print(Total_Deposit-Total_Withdraw)\n"
      ]
    },
    {
      "cell_type": "code",
      "source": [
        "Total_Deposit=0\n",
        "Total_Withdraw=0\n",
        "count=0\n",
        "Temp_deposit=\"\"\n",
        "Temp_Withdraw=\"\"\n",
        "\n",
        "log_message=input(\"log_message=\")\n",
        "for i in log_message:\n",
        "    if i=='D':\n",
        "        D=log_message[count+2:]\n",
        "        for dep in D:\n",
        "            if dep!=':' and dep!=' ':\n",
        "                Temp_deposit=Temp_deposit+dep\n",
        "            else:\n",
        "                break\n",
        "        Total_Deposit=Total_Deposit+int(Temp_deposit)\n",
        "        Temp_deposit=\"\"\n",
        "    elif i=='W':\n",
        "        W=log_message[count+2:]\n",
        "        for WD in W:\n",
        "            if WD!=':' and WD!=' ':\n",
        "                Temp_Withdraw=Temp_Withdraw+WD\n",
        "            else:\n",
        "                break\n",
        "        Total_Withdraw=Total_Withdraw+int(Temp_Withdraw)\n",
        "        Temp_Withdraw=\"\"\n",
        "    count+=1\n",
        "print(Total_Deposit-Total_Withdraw)\n"
      ],
      "metadata": {
        "colab": {
          "base_uri": "https://localhost:8080/"
        },
        "id": "JSUOKW3biSQU",
        "outputId": "d5b05171-0899-4f5d-dce5-85992ff994f1"
      },
      "execution_count": 8,
      "outputs": [
        {
          "output_type": "stream",
          "name": "stdout",
          "text": [
            "log_message=D:100 W:200 D:400\n",
            "300\n"
          ]
        }
      ]
    }
  ]
}